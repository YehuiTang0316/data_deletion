{
 "cells": [
  {
   "cell_type": "code",
   "execution_count": null,
   "metadata": {
    "collapsed": true
   },
   "outputs": [],
   "source": [
    "import matplotlib.pyplot as plt\n",
    "import numpy as np\n",
    "\n",
    "\n",
    "plt.figure()\n",
    "\n",
    "sigmas = [0.1, 1, 2, 4]\n",
    "legends = []\n",
    "for sigma in sigmas:\n",
    "    path = './log/dp-v3' + '-' + str(sigma) + 'mnist.npy'\n",
    "    data = np.load(path, allow_pickle=True).item()\n",
    "    plt.plot(data['test_local'], '-.')\n",
    "    plt.plot(data['test_global'])\n",
    "    legends += ['sigma=' + str(sigma) + 'local', 'sigma=' + str(sigma) + 'global']\n",
    "\n",
    "plt.legend(legends)\n",
    "plt.show()\n",
    "    \n",
    "\n",
    "\n",
    "\n",
    "\n",
    "\n"
   ]
  }
 ],
 "metadata": {
  "kernelspec": {
   "display_name": "Python 2",
   "language": "python",
   "name": "python2"
  },
  "language_info": {
   "codemirror_mode": {
    "name": "ipython",
    "version": 2
   },
   "file_extension": ".py",
   "mimetype": "text/x-python",
   "name": "python",
   "nbconvert_exporter": "python",
   "pygments_lexer": "ipython2",
   "version": "2.7.6"
  }
 },
 "nbformat": 4,
 "nbformat_minor": 0
}
